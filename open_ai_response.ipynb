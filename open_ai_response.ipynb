{
 "cells": [
  {
   "cell_type": "markdown",
   "id": "90930039",
   "metadata": {},
   "source": [
    "### open ai"
   ]
  },
  {
   "cell_type": "code",
   "execution_count": 9,
   "id": "cc164887",
   "metadata": {},
   "outputs": [
    {
     "name": "stdout",
     "output_type": "stream",
     "text": [
      "\u001b[33mWARNING: Skipping /opt/homebrew/lib/python3.11/site-packages/PyYAML-6.0-py3.11.egg-info due to invalid metadata entry 'name'\u001b[0m\u001b[33m\n",
      "\u001b[0mRequirement already satisfied: openai in /opt/homebrew/Cellar/jupyterlab/3.6.3/libexec/lib/python3.11/site-packages (0.27.6)\n",
      "Requirement already satisfied: requests>=2.20 in /opt/homebrew/Cellar/jupyterlab/3.6.3/libexec/lib/python3.11/site-packages (from openai) (2.28.2)\n",
      "Requirement already satisfied: tqdm in /opt/homebrew/lib/python3.11/site-packages (from openai) (4.65.0)\n",
      "Requirement already satisfied: aiohttp in /opt/homebrew/Cellar/jupyterlab/3.6.3/libexec/lib/python3.11/site-packages (from openai) (3.8.4)\n",
      "Requirement already satisfied: charset-normalizer<4,>=2 in /opt/homebrew/Cellar/jupyterlab/3.6.3/libexec/lib/python3.11/site-packages (from requests>=2.20->openai) (3.1.0)\n",
      "Requirement already satisfied: idna<4,>=2.5 in /opt/homebrew/Cellar/jupyterlab/3.6.3/libexec/lib/python3.11/site-packages (from requests>=2.20->openai) (3.4)\n",
      "Requirement already satisfied: urllib3<1.27,>=1.21.1 in /opt/homebrew/Cellar/jupyterlab/3.6.3/libexec/lib/python3.11/site-packages (from requests>=2.20->openai) (1.26.15)\n",
      "Requirement already satisfied: certifi>=2017.4.17 in /opt/homebrew/Cellar/jupyterlab/3.6.3/libexec/lib/python3.11/site-packages (from requests>=2.20->openai) (2022.12.7)\n",
      "Requirement already satisfied: attrs>=17.3.0 in /opt/homebrew/Cellar/jupyterlab/3.6.3/libexec/lib/python3.11/site-packages (from aiohttp->openai) (22.2.0)\n",
      "Requirement already satisfied: multidict<7.0,>=4.5 in /opt/homebrew/Cellar/jupyterlab/3.6.3/libexec/lib/python3.11/site-packages (from aiohttp->openai) (6.0.4)\n",
      "Requirement already satisfied: async-timeout<5.0,>=4.0.0a3 in /opt/homebrew/Cellar/jupyterlab/3.6.3/libexec/lib/python3.11/site-packages (from aiohttp->openai) (4.0.2)\n",
      "Requirement already satisfied: yarl<2.0,>=1.0 in /opt/homebrew/Cellar/jupyterlab/3.6.3/libexec/lib/python3.11/site-packages (from aiohttp->openai) (1.9.2)\n",
      "Requirement already satisfied: frozenlist>=1.1.1 in /opt/homebrew/Cellar/jupyterlab/3.6.3/libexec/lib/python3.11/site-packages (from aiohttp->openai) (1.3.3)\n",
      "Requirement already satisfied: aiosignal>=1.1.2 in /opt/homebrew/Cellar/jupyterlab/3.6.3/libexec/lib/python3.11/site-packages (from aiohttp->openai) (1.3.1)\n",
      "\u001b[33mWARNING: Skipping /opt/homebrew/lib/python3.11/site-packages/PyYAML-6.0-py3.11.egg-info due to invalid metadata entry 'name'\u001b[0m\u001b[33m\n",
      "\u001b[0m\n",
      "\u001b[1m[\u001b[0m\u001b[34;49mnotice\u001b[0m\u001b[1;39;49m]\u001b[0m\u001b[39;49m A new release of pip available: \u001b[0m\u001b[31;49m22.3.1\u001b[0m\u001b[39;49m -> \u001b[0m\u001b[32;49m23.1.2\u001b[0m\n",
      "\u001b[1m[\u001b[0m\u001b[34;49mnotice\u001b[0m\u001b[1;39;49m]\u001b[0m\u001b[39;49m To update, run: \u001b[0m\u001b[32;49m/opt/homebrew/Cellar/jupyterlab/3.6.3/libexec/bin/python3.11 -m pip install --upgrade pip\u001b[0m\n",
      "Note: you may need to restart the kernel to use updated packages.\n"
     ]
    }
   ],
   "source": [
    "pip install --upgrade openai"
   ]
  },
  {
   "cell_type": "code",
   "execution_count": 31,
   "id": "abaf2673",
   "metadata": {},
   "outputs": [],
   "source": [
    "import openai\n",
    "import pandas as pd\n",
    "# open ai 플랫폼에서 key 할당받아 작업\n",
    "openai.api_key = \"your-key\"\n",
    "\n",
    "file_name = ['shinhan.csv']"
   ]
  },
  {
   "cell_type": "code",
   "execution_count": 32,
   "id": "e88c524e",
   "metadata": {},
   "outputs": [
    {
     "name": "stdout",
     "output_type": "stream",
     "text": [
      "file name is :  shinhan.csv\n",
      "save to file :  summarization_shinhan.csv\n"
     ]
    }
   ],
   "source": [
    "for file in file_name:\n",
    "    print(\"file name is : \",file)\n",
    "    new_df=pd.read_csv(file)[['Instruction','Response']]\n",
    "    new_df.columns=['Instruction','Context']\n",
    "    new_df['Category']='summarization'\n",
    "    new_df['Response']=''\n",
    "    new_df['JSON']=''\n",
    "\n",
    "    for i in range(len(new_df)):\n",
    "        content=new_df['Context'][i] + ' 앞에 문장을 100글자 이내로 요약해주세요.'\n",
    "        chat_completion = openai.ChatCompletion.create(model=\"gpt-3.5-turbo\", \n",
    "                                               messages=[{\"role\": \"system\", \"content\": \"너는 금융 분야의 전문가입니다.\"},\n",
    "                                                         {\"role\": \"user\", \"content\": content}])\n",
    "        time.sleep(25)\n",
    "        \n",
    "        res_content=chat_completion.choices[0].message.content\n",
    "        new_df['Response'][i]=res_content\n",
    "        new_df['JSON'][i]=str(new_df.loc[i,['Instruction','Context','Response','Category']].to_dict())\n",
    "        new_df=new_df[['Instruction','Context','Response','Category','JSON']]\n",
    "        \n",
    "    new_df.to_csv('summarization_'+file,header=True,index=False) \n",
    "    print(\"save to file : \",'summarization_'+file)\n",
    "    time.sleep(3)"
   ]
  },
  {
   "cell_type": "code",
   "execution_count": 50,
   "id": "d5c27790",
   "metadata": {},
   "outputs": [
    {
     "data": {
      "text/html": [
       "<div>\n",
       "<style scoped>\n",
       "    .dataframe tbody tr th:only-of-type {\n",
       "        vertical-align: middle;\n",
       "    }\n",
       "\n",
       "    .dataframe tbody tr th {\n",
       "        vertical-align: top;\n",
       "    }\n",
       "\n",
       "    .dataframe thead th {\n",
       "        text-align: right;\n",
       "    }\n",
       "</style>\n",
       "<table border=\"1\" class=\"dataframe\">\n",
       "  <thead>\n",
       "    <tr style=\"text-align: right;\">\n",
       "      <th></th>\n",
       "      <th>Instruction</th>\n",
       "      <th>Context</th>\n",
       "      <th>Response</th>\n",
       "      <th>Category</th>\n",
       "      <th>JSON</th>\n",
       "    </tr>\n",
       "  </thead>\n",
       "  <tbody>\n",
       "    <tr>\n",
       "      <th>0</th>\n",
       "      <td>[대출] 청년전용 버팀목 보증부 월세대출에 대해 알려주세요</td>\n",
       "      <td>[주택도시기금] 청년전용 버팀목 보증부 월세대출   ◎ 대출조건  ① 세대주와 세대...</td>\n",
       "      <td>주택도시기금은 세대주와 세대원 모두 다른은행에 이용중인 전세자금대출이 없어야 하며,...</td>\n",
       "      <td>summarization</td>\n",
       "      <td>{'Instruction': '[대출] 청년전용 버팀목 보증부 월세대출에 대해 알려...</td>\n",
       "    </tr>\n",
       "    <tr>\n",
       "      <th>1</th>\n",
       "      <td>[대출] 청년전용 버팀목 전세자금대출</td>\n",
       "      <td>[주택도시기금] 청년전용 버팀목 전세자금 대출  [대출 대상 요건]   ① 세대주와...</td>\n",
       "      <td>주택도시기금에서 청년전용 버팀목 전세자금 대출을 신청할 수 있는데, 대출한도는 전세...</td>\n",
       "      <td>summarization</td>\n",
       "      <td>{'Instruction': '[대출] 청년전용 버팀목 전세자금대출', 'Conte...</td>\n",
       "    </tr>\n",
       "    <tr>\n",
       "      <th>2</th>\n",
       "      <td>[대출] 쏠편한 비상금대출 신청방법 알려주세요.</td>\n",
       "      <td>신한 쏠(SOL) 로그인 후   ①  [신한 쏠(SOL)] 로그인 &gt; 상품 &gt; 대출...</td>\n",
       "      <td>신한 쏠(SOL)에서 대출을 신청하는 방법은 쏠편한 비상금대출 페이지에서 대출신청 ...</td>\n",
       "      <td>summarization</td>\n",
       "      <td>{'Instruction': '[대출] 쏠편한 비상금대출 신청방법 알려주세요.', ...</td>\n",
       "    </tr>\n",
       "    <tr>\n",
       "      <th>3</th>\n",
       "      <td>[대출] 쏠편한 비상금대출 대상자가 어떻게 되나요?</td>\n",
       "      <td>신한 쏠편한 비상금대출은 소득 및 재직 서류 없이 서울보증보험의 보증심사를 통하여 ...</td>\n",
       "      <td>신한 쏠편한 비상금대출은 공인인증서를 통해 모바일로 신청 가능한 대출 상품이며, 최...</td>\n",
       "      <td>summarization</td>\n",
       "      <td>{'Instruction': '[대출] 쏠편한 비상금대출 대상자가 어떻게 되나요?'...</td>\n",
       "    </tr>\n",
       "    <tr>\n",
       "      <th>4</th>\n",
       "      <td>[대출]신한 햇살론 15 신청기준 알려주세요.</td>\n",
       "      <td>「신한 햇살론15」은 [국민행복기금] 보증서를 기반으로 은행 대출을 이용할 수 있도...</td>\n",
       "      <td>\"신한 햇살론15\"은 국민행복기금 보증서 기반으로 은행 대출을 지원하는 공동 상품으...</td>\n",
       "      <td>summarization</td>\n",
       "      <td>{'Instruction': '[대출]신한 햇살론 15 신청기준 알려주세요.', '...</td>\n",
       "    </tr>\n",
       "  </tbody>\n",
       "</table>\n",
       "</div>"
      ],
      "text/plain": [
       "                        Instruction   \n",
       "0  [대출] 청년전용 버팀목 보증부 월세대출에 대해 알려주세요  \\\n",
       "1              [대출] 청년전용 버팀목 전세자금대출   \n",
       "2        [대출] 쏠편한 비상금대출 신청방법 알려주세요.   \n",
       "3      [대출] 쏠편한 비상금대출 대상자가 어떻게 되나요?   \n",
       "4         [대출]신한 햇살론 15 신청기준 알려주세요.   \n",
       "\n",
       "                                             Context   \n",
       "0  [주택도시기금] 청년전용 버팀목 보증부 월세대출   ◎ 대출조건  ① 세대주와 세대...  \\\n",
       "1  [주택도시기금] 청년전용 버팀목 전세자금 대출  [대출 대상 요건]   ① 세대주와...   \n",
       "2  신한 쏠(SOL) 로그인 후   ①  [신한 쏠(SOL)] 로그인 > 상품 > 대출...   \n",
       "3  신한 쏠편한 비상금대출은 소득 및 재직 서류 없이 서울보증보험의 보증심사를 통하여 ...   \n",
       "4  「신한 햇살론15」은 [국민행복기금] 보증서를 기반으로 은행 대출을 이용할 수 있도...   \n",
       "\n",
       "                                            Response       Category   \n",
       "0  주택도시기금은 세대주와 세대원 모두 다른은행에 이용중인 전세자금대출이 없어야 하며,...  summarization  \\\n",
       "1  주택도시기금에서 청년전용 버팀목 전세자금 대출을 신청할 수 있는데, 대출한도는 전세...  summarization   \n",
       "2  신한 쏠(SOL)에서 대출을 신청하는 방법은 쏠편한 비상금대출 페이지에서 대출신청 ...  summarization   \n",
       "3  신한 쏠편한 비상금대출은 공인인증서를 통해 모바일로 신청 가능한 대출 상품이며, 최...  summarization   \n",
       "4  \"신한 햇살론15\"은 국민행복기금 보증서 기반으로 은행 대출을 지원하는 공동 상품으...  summarization   \n",
       "\n",
       "                                                JSON  \n",
       "0  {'Instruction': '[대출] 청년전용 버팀목 보증부 월세대출에 대해 알려...  \n",
       "1  {'Instruction': '[대출] 청년전용 버팀목 전세자금대출', 'Conte...  \n",
       "2  {'Instruction': '[대출] 쏠편한 비상금대출 신청방법 알려주세요.', ...  \n",
       "3  {'Instruction': '[대출] 쏠편한 비상금대출 대상자가 어떻게 되나요?'...  \n",
       "4  {'Instruction': '[대출]신한 햇살론 15 신청기준 알려주세요.', '...  "
      ]
     },
     "execution_count": 50,
     "metadata": {},
     "output_type": "execute_result"
    }
   ],
   "source": [
    "new_df.head()"
   ]
  },
  {
   "cell_type": "code",
   "execution_count": 35,
   "id": "a1057da3",
   "metadata": {},
   "outputs": [],
   "source": [
    "new_df.to_excel('summarization.xlsx',header=True,index=False)"
   ]
  }
 ],
 "metadata": {
  "kernelspec": {
   "display_name": "Python 3 (ipykernel)",
   "language": "python",
   "name": "python3"
  },
  "language_info": {
   "codemirror_mode": {
    "name": "ipython",
    "version": 3
   },
   "file_extension": ".py",
   "mimetype": "text/x-python",
   "name": "python",
   "nbconvert_exporter": "python",
   "pygments_lexer": "ipython3",
   "version": "3.11.3"
  }
 },
 "nbformat": 4,
 "nbformat_minor": 5
}
